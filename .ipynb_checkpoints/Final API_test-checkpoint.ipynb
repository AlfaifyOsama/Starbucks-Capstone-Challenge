{
 "cells": [
  {
   "cell_type": "code",
   "execution_count": 4,
   "metadata": {},
   "outputs": [
    {
     "name": "stdout",
     "output_type": "stream",
     "text": [
      "\"Predicted Status: Offer Viewed\""
     ]
    }
   ],
   "source": [
    "! curl -X 'POST' \\\n",
    "  'http://127.0.0.1:5000/predict' \\\n",
    "  -H 'accept: application/json' \\\n",
    "  -H 'Content-Type: application/json' \\\n",
    "  -d '{ \\\n",
    "  \"time_h\": 298.1, \\\n",
    "  \"offer_type\": 1, \\\n",
    "  \"difficulty\": 1, \\\n",
    "  \"duration_h\": 120, \\\n",
    "  \"gender\": 1, \\\n",
    "  \"age\": 60, \\\n",
    "  \"income\": 70000.0 \\\n",
    "  }'"
   ]
  },
  {
   "cell_type": "code",
   "execution_count": null,
   "metadata": {},
   "outputs": [],
   "source": []
  }
 ],
 "metadata": {
  "kernelspec": {
   "display_name": "Python 3",
   "language": "python",
   "name": "python3"
  },
  "language_info": {
   "codemirror_mode": {
    "name": "ipython",
    "version": 3
   },
   "file_extension": ".py",
   "mimetype": "text/x-python",
   "name": "python",
   "nbconvert_exporter": "python",
   "pygments_lexer": "ipython3",
   "version": "3.8.5"
  }
 },
 "nbformat": 4,
 "nbformat_minor": 4
}
